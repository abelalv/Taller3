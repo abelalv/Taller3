{
 "cells": [
  {
   "cell_type": "markdown",
   "id": "5ec95c33",
   "metadata": {},
   "source": [
    "# Taller de ecuaciones diferenciales "
   ]
  },
  {
   "cell_type": "markdown",
   "id": "880381b8",
   "metadata": {},
   "source": [
    "## Punto 1\n",
    "El modelo presa-depredador de Volterra-Lotka. Sean $x(t)$ y $y(t)$ las poblaciones de las presas y los depredadores (digamos, conejos y zorros),\n",
    "respectivamente. Para simplificar la exposición, supongamos que hemos elegido las unidades de modo que el modelo se escribe como\n",
    "\n",
    "$$x'=x-xy$$\n",
    "$$y'=-y+xy$$\n",
    "\n",
    "- Mueste que $(0,0)$ y $(1,1)$ son los únicos puntos críticos.\n",
    "\n",
    "- Grafique el campo de direcciones en el plano fase  para algunas trayectorias.\n",
    "\n",
    "\n",
    "\n",
    "El campo de direcciones sugiere que el equilibrio en $(1,1)$ es un centro o una\n",
    "espiral (estable o inestable). La distinción es muy importante para los biólogos. Si es una espiral estable, entonces es de esperar que cualquier distribución inicial de la \n",
    "población se estabilice, a largo plazo, en $(1,1)$ (en estas unidades). Si es una espiral\n",
    "inestable, ¡entonces habrá una explosión demográfica de zorros y conejos! Y si es\n",
    "un centro estable, entonces las poblaciones serán periódicas, con muchos conejos al-\n",
    "gunos años y sólo unos cuantos conejos en otros años, cambiando en forma perpe-\n",
    "tua de un lado a otro. Así, es importante establecer la naturaleza exacta del\n",
    "equilibrio\n",
    "\n",
    "\n",
    "- Resuelva la ecuación \n",
    "\n",
    "$$\\frac{dy}{dx}=\\frac{y(x-1)}{x(1-y)}\\ \\ \\ \\ \\text{(2)}$$\n",
    "\n",
    "separando variables y muestre que el resultado se puede\n",
    "llevar a la forma \n",
    "\n",
    "$$(xe^{-x})(ye^{-y})=C \\ \\ \\ \\text{(3)}$$\n",
    "\n",
    "¿Qué relación tiene con el problema?\n",
    "\n",
    "Observe que la fórmula (3) para las curvas integrales implica que éstas son simétricas con respecto de la recta $y=x$\n",
    "\n",
    "- Debemos decidir si estas curvas son espirales que tienden a cuando $t\\to\\infty$ o $t\\to-\\infty$\n",
    "Use la gráfica de en la figura (1) para justificar que la\n",
    "gráfica de la ecuación (3) no tiene puntos si $C>e^{-2}$ y que contiene un punto,\n",
    "$(1,1)$, si $C=e^{-2}$ Así, las trayectorias en cuestión sólo surgen para $C<e^{-2}$\n",
    "\n",
    "\n",
    "\n"
   ]
  },
  {
   "cell_type": "markdown",
   "id": "f5bd3385",
   "metadata": {},
   "source": [
    "<img src=\"figura.png\">\n",
    "\n",
    "Figura 1. El bosquejo del plano fase nos lleva a concluir que el punto crítico $(1,1)$ es un centro, las trayectorias son órbitas cerradas y las poblaciones varían en forma periódica."
   ]
  },
  {
   "cell_type": "markdown",
   "id": "377cd96b",
   "metadata": {},
   "source": [
    "## Punto 2\n",
    "Use un paquete de software para bosquejar el campo de direcciones en el plano fase para el sistema\n",
    "\n",
    "$$dx/dt=y$$\n",
    "\n",
    "$$dy/dt=-x-x^3$$\n",
    "\n",
    "A partir de este bosquejo, prediga el límite asintó-\n",
    "tico (cuando $t\\to\\infty$) de la solución que parte de\n",
    "$(1, 1)$."
   ]
  },
  {
   "cell_type": "markdown",
   "id": "6febc842",
   "metadata": {},
   "source": [
    "\n",
    "## Punto 3\n",
    "Use un paquete de software para bosquejar el campo de direcciones en el plano fase para el sistema\n",
    "\n",
    "$$dx/dt=y$$\n",
    "\n",
    "$$dy/dt=-x-x^2$$\n",
    "\n",
    "¿Qué tipo de puntos críticos \n",
    "aparecen en $(0,0)$ y $(1,0))?"
   ]
  },
  {
   "cell_type": "markdown",
   "id": "60b51b12",
   "metadata": {},
   "source": [
    "## Punto 4\n",
    "Modelos epidemiológicos. Un modelo para la difusión de una enfermedad en una población (un modelo epidemiológico) está dado por el sistema\n",
    "\n",
    "$$\\frac{dS}{dt}=-aSI$$\n",
    "\n",
    "$$\\frac{dI}{dt}=aSI-bI$$\n",
    "\n",
    "donde $a$ y $b$ son constantes positivas. En este caso,$S(t)$ representa la población susceptible e $I(t)$ la población infectada después de $t$ días. La constante $a$ es una medida de la rapidez de transmisión de la enfermedad de una persona infectada a la población susceptible. La constante $b$ representa la razón con la que sana la población infectada, es decir, sale de la población infectada (y con ello se supone que queda inmune)\n",
    "\n",
    "- Suponga que para cierta enfermedad se determina que $a=0.003$ y $b=0.5$. En el plano fase SI, bosqueje la trayectoria correspondiente a la condición inicial de que una persona esté infectada y $700$ personas sean susceptibles\n",
    "\n",
    "- Utilice la gráfica de la parte anterior para estimar el número máximo posible de personas infectadas.\n",
    "\n",
    "- Use las ecuaciones diferenciales que modelan la difusión de la enfermedad para justificar que el número máximo de personas infectadas ocurre cuando $S=  b/a=1000/6\\approx 167$ personas."
   ]
  }
 ],
 "metadata": {
  "kernelspec": {
   "display_name": "Python 3 (ipykernel)",
   "language": "python",
   "name": "python3"
  },
  "language_info": {
   "codemirror_mode": {
    "name": "ipython",
    "version": 3
   },
   "file_extension": ".py",
   "mimetype": "text/x-python",
   "name": "python",
   "nbconvert_exporter": "python",
   "pygments_lexer": "ipython3",
   "version": "3.10.6"
  },
  "vscode": {
   "interpreter": {
    "hash": "916dbcbb3f70747c44a77c7bcd40155683ae19c65e1c03b4aa3499c5328201f1"
   }
  }
 },
 "nbformat": 4,
 "nbformat_minor": 5
}
